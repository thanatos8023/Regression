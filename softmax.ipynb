{
 "cells": [
  {
   "cell_type": "code",
   "execution_count": 1,
   "metadata": {},
   "outputs": [],
   "source": [
    "import os\n",
    "import random\n",
    "import numpy as np\n",
    "import matplotlib.pyplot as plt"
   ]
  },
  {
   "cell_type": "code",
   "execution_count": 2,
   "metadata": {},
   "outputs": [],
   "source": [
    "def sigmoid(z):\n",
    "    return 1 / (1 + np.exp(-z))\n",
    "\n",
    "def transpose(x):\n",
    "    m = len(x)\n",
    "    n = len(x[0])\n",
    "    \n",
    "    x_t = []\n",
    "    for i in range(n):\n",
    "        temp = []\n",
    "        for j in range(m):\n",
    "            temp.append(x[j][i])\n",
    "        x_t.append(temp)\n",
    "    return x_t\n",
    "\n",
    "def normalize(x, nominator):\n",
    "    return x/nominator*0.99 + 0.01"
   ]
  },
  {
   "cell_type": "code",
   "execution_count": 33,
   "metadata": {},
   "outputs": [],
   "source": [
    "# X = 5 * 2 matrix\n",
    "X = [[10, 45, 10, 15, 23, 33],\n",
    "    [9, 46, 2, 10, 22, 37],\n",
    "    [5, 6, 2, 7, 10, 90],\n",
    "    [1, 8, 10, 20, 25, 70],\n",
    "    [36, 70, 60, 44, 50, 1]]\n",
    "\n",
    "# normalize x\n",
    "for i in range(len(X)):\n",
    "    for j in range(len(X[i])):\n",
    "        X[i][j] = normalize(X[i][j], 90)\n",
    "\n",
    "# Y = 5 * 3 matrix\n",
    "Y = [[1, 0, 0],\n",
    "    [1, 0, 0],\n",
    "    [0, 1, 0],\n",
    "    [0, 1, 0],\n",
    "    [0, 0, 1]]"
   ]
  },
  {
   "cell_type": "code",
   "execution_count": 34,
   "metadata": {},
   "outputs": [],
   "source": [
    "# W = 3 * 2 matrix\n",
    "W = [[random.random(), random.random(), random.random(), random.random(), random.random(), random.random()],\n",
    "    [random.random(), random.random(), random.random(), random.random(), random.random(), random.random()],\n",
    "    [random.random(), random.random(), random.random(), random.random(), random.random(), random.random()]]"
   ]
  },
  {
   "cell_type": "markdown",
   "metadata": {},
   "source": [
    "## Modulize\n",
    "train single classifier"
   ]
  },
  {
   "cell_type": "code",
   "execution_count": 35,
   "metadata": {},
   "outputs": [
    {
     "name": "stdout",
     "output_type": "stream",
     "text": [
      "[0.6763225592139659, 0.6747500074174524, 0.6556285741428117, 0.6494512978214633, 0.7734172108073158]\n"
     ]
    }
   ],
   "source": [
    "def calc_hypo(w, x):\n",
    "    arguments = len(w)\n",
    "    points = len(x)\n",
    "    \n",
    "    H = []\n",
    "    for n in range(points):\n",
    "        h = 0\n",
    "        for m in range(arguments):\n",
    "            h += w[m] * x[n][m]\n",
    "        H.append(sigmoid(h))\n",
    "    \n",
    "    return H\n",
    "\n",
    "h = calc_hypo(W[0], X)\n",
    "print(h)"
   ]
  },
  {
   "cell_type": "code",
   "execution_count": 36,
   "metadata": {},
   "outputs": [
    {
     "name": "stdout",
     "output_type": "stream",
     "text": [
      "0.8766866338444308\n"
     ]
    }
   ],
   "source": [
    "def calc_cost(H, Y):\n",
    "    costs = []\n",
    "    for i in range(len(Y)):\n",
    "        costs.append(-Y[i]*np.log(H[i]) - (1-Y[i])*np.log(1-H[i]))\n",
    "    return sum(costs) / len(costs)\n",
    "\n",
    "c = calc_cost(h, transpose(Y)[0])\n",
    "print(c)"
   ]
  },
  {
   "cell_type": "code",
   "execution_count": 37,
   "metadata": {},
   "outputs": [
    {
     "name": "stdout",
     "output_type": "stream",
     "text": [
      "[0.753773843387668, 0.6214966116228606, 0.24715483540568928, 0.0028345159599759695, 0.463847028263944, 0.48382738610655185]\n",
      "[0.753773843387076, 0.6214966116220897, 0.24715483540455357, 0.0028345159589903547, 0.4638470282628844, 0.4838273861047077]\n",
      "[0.753773843386484, 0.6214966116213188, 0.24715483540341787, 0.00283451595800474, 0.4638470282618248, 0.4838273861028636]\n"
     ]
    }
   ],
   "source": [
    "def calc_grad(w, X, y, h, c, lr, d):\n",
    "    grad = []\n",
    "    for i in range(len(w)):\n",
    "        w_ = []\n",
    "        for j in range(len(w)):\n",
    "            if i == j:\n",
    "                w_.append(w[j] + d)\n",
    "            else:\n",
    "                w_.append(w[j])\n",
    "        #print(w_)\n",
    "        h_ = calc_hypo(w_, X)\n",
    "        c_ = calc_cost(h_, y)\n",
    "        #print(c_)\n",
    "        #print(c)\n",
    "        g = c_ - c\n",
    "        grad.append(g)\n",
    "    \n",
    "    w_new = []\n",
    "    for i in range(len(w)):\n",
    "        w_new.append(w[i] - (grad[i] * lr))\n",
    "    \n",
    "    return w_new\n",
    "\n",
    "print(W[0])\n",
    "w_new = calc_grad(W[0], X, transpose(Y)[0], h, c, 0.01, 1e-9)\n",
    "print(w_new)\n",
    "h_new = calc_hypo(w_new, X)\n",
    "c_new = calc_cost(h_new, transpose(Y)[0])\n",
    "w_new2 = calc_grad(w_new, X, transpose(Y)[0], h_new, c_new, 0.01, 1e-9)\n",
    "print(w_new2)"
   ]
  },
  {
   "cell_type": "code",
   "execution_count": 38,
   "metadata": {},
   "outputs": [
    {
     "name": "stdout",
     "output_type": "stream",
     "text": [
      "[[0.7537738374679588, 0.621496603913472, 0.24715482404866285, 0.0028345061038160483, 0.4638470176679754, 0.48382736766500106], [0.27930932457459634, 0.9410431791928543, 0.06604787656843326, 0.1801690608651766, 0.31199015291855803, 0.4158921497009196], [0.3357280768654286, 0.6475962488316133, 0.8413035572944294, 0.5409722463059273, 0.8314664479615701, 0.043239355687602746]]\n"
     ]
    }
   ],
   "source": [
    "def train(W, X, Y, learn_rate, max_iter, diff=1e-9):\n",
    "    # W = 3 * 2\n",
    "    # X = 5 * 2\n",
    "    # Y = 5 * 3\n",
    "    \n",
    "    # Result W\n",
    "    res_W = []\n",
    "    \n",
    "    Y_t = transpose(Y)    # 3 * 5\n",
    "    \n",
    "    # Y_t = 3 * 5\n",
    "    nOfModel = len(W)\n",
    "    \n",
    "    # 모델 별로 훈련함\n",
    "    for i in range(nOfModel):\n",
    "        w = W[i]     # [w, w]\n",
    "        y = Y_t[i]   # [y, y, y, y, y]\n",
    "        \n",
    "        for j in range(max_iter):\n",
    "            # Hypothesis\n",
    "            h = calc_hypo(w, X)    # [h, h, h, h, h]\n",
    "\n",
    "            # cost\n",
    "            c = calc_cost(h, y)\n",
    "\n",
    "            if (c < 0.0001):\n",
    "                break\n",
    "            \n",
    "            # gradient\n",
    "            w = calc_grad(w, X, y, h, c, learn_rate, diff)\n",
    "        res_W.append(w)\n",
    "    \n",
    "    print(res_W)\n",
    "\n",
    "train(W, X, Y, 0.01, 10000)"
   ]
  },
  {
   "cell_type": "code",
   "execution_count": 24,
   "metadata": {},
   "outputs": [
    {
     "name": "stdout",
     "output_type": "stream",
     "text": [
      "[0.8308650971934588, 0.04223961225390603, 0.12689529055263515]\n"
     ]
    }
   ],
   "source": [
    "def softmax(W, data):\n",
    "    result = [0 for i in range(len(W))]\n",
    "    \n",
    "    e_arr = []\n",
    "    \n",
    "    # hypothesis function\n",
    "    for i in range(len(W)):\n",
    "        temp = 0\n",
    "        for j in range(len(data)):\n",
    "            temp += W[i][j] * data[j]\n",
    "        e_arr.append(temp)\n",
    "    \n",
    "    # exponential function\n",
    "    for i in range(len(e_arr)):\n",
    "        e_arr[i] = np.exp(e_arr[i])\n",
    "    \n",
    "    # softmax\n",
    "    for i in range(len(e_arr)):\n",
    "        result[i] = e_arr[i] / sum(e_arr)\n",
    "    \n",
    "    return result\n",
    "\n",
    "sm = softmax(W, [5, 5])\n",
    "print(sm)"
   ]
  },
  {
   "cell_type": "code",
   "execution_count": 32,
   "metadata": {},
   "outputs": [
    {
     "data": {
      "text/plain": [
       "2.5839999999999996"
      ]
     },
     "execution_count": 32,
     "metadata": {},
     "output_type": "execute_result"
    }
   ],
   "source": [
    "normalize(260, 100)"
   ]
  },
  {
   "cell_type": "code",
   "execution_count": 43,
   "metadata": {},
   "outputs": [
    {
     "data": {
      "text/plain": [
       "[<matplotlib.lines.Line2D at 0x7fabbbbef1d0>]"
      ]
     },
     "execution_count": 43,
     "metadata": {},
     "output_type": "execute_result"
    },
    {
     "data": {
      "image/png": "[encoded data removed]",
      "text/plain": [
       "<Figure size 432x288 with 1 Axes>"
      ]
     },
     "metadata": {
      "needs_background": "light"
     },
     "output_type": "display_data"
    }
   ],
   "source": [
    "plt.plot([x/100 for x in range(-500, 500)], [sigmoid(x/100) for x in range(-500, 500)])"
   ]
  },
  {
   "cell_type": "code",
   "execution_count": 44,
   "metadata": {},
   "outputs": [
    {
     "data": {
      "text/plain": [
       "0.9933071490757153"
      ]
     },
     "execution_count": 44,
     "metadata": {},
     "output_type": "execute_result"
    }
   ],
   "source": [
    "sigmoid(5)"
   ]
  },
  {
   "cell_type": "code",
   "execution_count": null,
   "metadata": {},
   "outputs": [],
   "source": []
  }
 ],
 "metadata": {
  "kernelspec": {
   "display_name": "Python 3",
   "language": "python",
   "name": "python3"
  },
  "language_info": {
   "codemirror_mode": {
    "name": "ipython",
    "version": 3
   },
   "file_extension": ".py",
   "mimetype": "text/x-python",
   "name": "python",
   "nbconvert_exporter": "python",
   "pygments_lexer": "ipython3",
   "version": "3.7.1"
  }
 },
 "nbformat": 4,
 "nbformat_minor": 2
}
