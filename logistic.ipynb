{
 "cells": [
  {
   "cell_type": "code",
   "execution_count": 1,
   "metadata": {},
   "outputs": [],
   "source": [
    "import matplotlib.pyplot as plt\n",
    "import random\n",
    "import math\n",
    "import numpy as np"
   ]
  },
  {
   "cell_type": "markdown",
   "metadata": {},
   "source": [
    "# Logistic Regression"
   ]
  },
  {
   "cell_type": "code",
   "execution_count": 2,
   "metadata": {},
   "outputs": [
    {
     "data": {
      "text/plain": [
       "<matplotlib.collections.PathCollection at 0x7fa9cfb5ca58>"
      ]
     },
     "execution_count": 2,
     "metadata": {},
     "output_type": "execute_result"
    },
    {
     "data": {
      "image/png": "[encoded data removed]",
      "text/plain": [
       "<Figure size 432x288 with 1 Axes>"
      ]
     },
     "metadata": {
      "needs_background": "light"
     },
     "output_type": "display_data"
    }
   ],
   "source": [
    "def sigmoid(z):\n",
    "    return 1 / (1 + np.exp(-z))\n",
    "\n",
    "X = [[10, 9, 3, 2, 11],\n",
    "    [5, 5, 2, 4, 1]]\n",
    "\n",
    "Y_corr = [1, 1, 0, 0, 0]\n",
    "\n",
    "plt.scatter(X[0][:2], X[1][:2], color=\"red\")\n",
    "plt.scatter(X[0][2:], X[1][2:], color=\"blue\")"
   ]
  },
  {
   "cell_type": "code",
   "execution_count": 3,
   "metadata": {},
   "outputs": [
    {
     "data": {
      "image/png": "[encoded data removed]",
      "text/plain": [
       "<Figure size 432x288 with 1 Axes>"
      ]
     },
     "metadata": {
      "needs_background": "light"
     },
     "output_type": "display_data"
    },
    {
     "data": {
      "image/png": "[encoded data removed]",
      "text/plain": [
       "<Figure size 432x288 with 1 Axes>"
      ]
     },
     "metadata": {
      "needs_background": "light"
     },
     "output_type": "display_data"
    }
   ],
   "source": [
    "def calc_cost(H, Y):\n",
    "    costs = []\n",
    "    for i in range(len(Y)):\n",
    "        costs.append(-Y[i]*np.log(H[i]) - (1-Y[i])*np.log(1-H[i]))\n",
    "    return sum(costs) / len(costs)\n",
    "\n",
    "def train_multilog(X, y, learning_rate, MAX_ITER):\n",
    "    W = []\n",
    "    costs = []\n",
    "    \n",
    "    w = [random.random() for i in range(len(X))]\n",
    "    \n",
    "    for _ in range(MAX_ITER):\n",
    "        # Hypothesis\n",
    "        H = [sigmoid(w[0]*X[0][i] + w[1]*X[1][i]) for i in range(len(X[0]))]\n",
    "        \n",
    "        # Cost function\n",
    "        cost = calc_cost(H, y)\n",
    "        \n",
    "        W.append(w[1])\n",
    "        costs.append(cost)\n",
    "        \n",
    "        if cost < 0.00000001:\n",
    "            break\n",
    "        \n",
    "        # Gradient descent\n",
    "        d = 1e-9\n",
    "        grad = []\n",
    "        for i in range(len(w)):\n",
    "            re_W = [w[j] + (d if j == i else 0) for j in range(len(w))]\n",
    "            H_p = [sigmoid(re_W[0]*X[0][i] + re_W[1]*X[1][i]) for i in range(len(X[0]))]\n",
    "            \n",
    "            g = (calc_cost(H_p, y) - calc_cost(H, y)) / d\n",
    "            \n",
    "            grad.append(g)\n",
    "            \n",
    "        w = [w[i] - (grad[i]*learning_rate) for i in range(len(w))]\n",
    "        \n",
    "    plt.subplots(1, 1)\n",
    "    plt.scatter(W, costs)\n",
    "\n",
    "    plt.subplots(1, 1)\n",
    "    plt.scatter(X[0][:2], X[1][:2], color=\"red\")\n",
    "    plt.scatter(X[0][2:], X[1][2:], color=\"blue\")\n",
    "    plt.plot([(y[i] - w[1]*X[1][i]) / w[0] for i in range(len(y))], X[0])\n",
    "        \n",
    "train_multilog(X, Y_corr, 0.1, 50000)"
   ]
  },
  {
   "cell_type": "code",
   "execution_count": 4,
   "metadata": {},
   "outputs": [],
   "source": [
    "def normalize(x, nominator):\n",
    "    return x/nominator*0.99 + 0.01\n",
    "\n",
    "def calc_hypo(w, x):\n",
    "    arguments = len(w)\n",
    "    points = len(x[0])\n",
    "    \n",
    "    H = []\n",
    "    for n in range(points):\n",
    "        h = 0\n",
    "        for m in range(arguments):\n",
    "            h += w[m] * x[m][n]\n",
    "        H.append(h)\n",
    "    \n",
    "    return H\n",
    "\n",
    "def transpose(x):\n",
    "    m = len(x)\n",
    "    n = len(x[0])\n",
    "    \n",
    "    x_t = []\n",
    "    for i in range(n):\n",
    "        temp = []\n",
    "        for j in range(m):\n",
    "            temp.append(x[j][i])\n",
    "        x_t.append(temp)\n",
    "    return x_t"
   ]
  },
  {
   "cell_type": "code",
   "execution_count": 5,
   "metadata": {},
   "outputs": [
    {
     "name": "stderr",
     "output_type": "stream",
     "text": [
      "/home/jaeho/anaconda3/lib/python3.7/site-packages/ipykernel_launcher.py:4: RuntimeWarning: invalid value encountered in log\n",
      "  after removing the cwd from sys.path.\n"
     ]
    },
    {
     "ename": "TypeError",
     "evalue": "can't multiply sequence by non-int of type 'list'",
     "output_type": "error",
     "traceback": [
      "\u001b[0;31m---------------------------------------------------------------------------\u001b[0m",
      "\u001b[0;31mTypeError\u001b[0m                                 Traceback (most recent call last)",
      "\u001b[0;32m<ipython-input-5-041beba66ef7>\u001b[0m in \u001b[0;36m<module>\u001b[0;34m\u001b[0m\n\u001b[1;32m     50\u001b[0m     \u001b[0mplt\u001b[0m\u001b[0;34m.\u001b[0m\u001b[0mplot\u001b[0m\u001b[0;34m(\u001b[0m\u001b[0mX\u001b[0m\u001b[0;34m,\u001b[0m\u001b[0my_pred\u001b[0m\u001b[0;34m)\u001b[0m\u001b[0;34m\u001b[0m\u001b[0;34m\u001b[0m\u001b[0m\n\u001b[1;32m     51\u001b[0m \u001b[0;34m\u001b[0m\u001b[0m\n\u001b[0;32m---> 52\u001b[0;31m \u001b[0mtrain_logistic\u001b[0m\u001b[0;34m(\u001b[0m\u001b[0mX\u001b[0m\u001b[0;34m,\u001b[0m \u001b[0mY_corr\u001b[0m\u001b[0;34m,\u001b[0m \u001b[0;36m0.01\u001b[0m\u001b[0;34m,\u001b[0m \u001b[0;36m1000\u001b[0m\u001b[0;34m)\u001b[0m\u001b[0;34m\u001b[0m\u001b[0;34m\u001b[0m\u001b[0m\n\u001b[0m",
      "\u001b[0;32m<ipython-input-5-041beba66ef7>\u001b[0m in \u001b[0;36mtrain_logistic\u001b[0;34m(X, y, learning_rate, MAX_ITER)\u001b[0m\n\u001b[1;32m     41\u001b[0m             \u001b[0mw\u001b[0m\u001b[0;34m[\u001b[0m\u001b[0mm\u001b[0m\u001b[0;34m]\u001b[0m \u001b[0;34m=\u001b[0m \u001b[0mw\u001b[0m\u001b[0;34m[\u001b[0m\u001b[0mm\u001b[0m\u001b[0;34m]\u001b[0m \u001b[0;34m-\u001b[0m \u001b[0;34m(\u001b[0m\u001b[0mgrad\u001b[0m\u001b[0;34m[\u001b[0m\u001b[0mm\u001b[0m\u001b[0;34m]\u001b[0m \u001b[0;34m*\u001b[0m \u001b[0mlearning_rate\u001b[0m\u001b[0;34m)\u001b[0m\u001b[0;34m\u001b[0m\u001b[0;34m\u001b[0m\u001b[0m\n\u001b[1;32m     42\u001b[0m \u001b[0;34m\u001b[0m\u001b[0m\n\u001b[0;32m---> 43\u001b[0;31m     \u001b[0my_pred\u001b[0m \u001b[0;34m=\u001b[0m \u001b[0;34m[\u001b[0m\u001b[0msigmoid\u001b[0m\u001b[0;34m(\u001b[0m\u001b[0mw\u001b[0m\u001b[0;34m*\u001b[0m\u001b[0mx\u001b[0m\u001b[0;34m)\u001b[0m \u001b[0;32mfor\u001b[0m \u001b[0mx\u001b[0m \u001b[0;32min\u001b[0m \u001b[0mX\u001b[0m\u001b[0;34m]\u001b[0m\u001b[0;34m\u001b[0m\u001b[0;34m\u001b[0m\u001b[0m\n\u001b[0m\u001b[1;32m     44\u001b[0m \u001b[0;34m\u001b[0m\u001b[0m\n\u001b[1;32m     45\u001b[0m     \u001b[0mplt\u001b[0m\u001b[0;34m.\u001b[0m\u001b[0msubplots\u001b[0m\u001b[0;34m(\u001b[0m\u001b[0;36m1\u001b[0m\u001b[0;34m,\u001b[0m\u001b[0;36m1\u001b[0m\u001b[0;34m)\u001b[0m\u001b[0;34m\u001b[0m\u001b[0;34m\u001b[0m\u001b[0m\n",
      "\u001b[0;32m<ipython-input-5-041beba66ef7>\u001b[0m in \u001b[0;36m<listcomp>\u001b[0;34m(.0)\u001b[0m\n\u001b[1;32m     41\u001b[0m             \u001b[0mw\u001b[0m\u001b[0;34m[\u001b[0m\u001b[0mm\u001b[0m\u001b[0;34m]\u001b[0m \u001b[0;34m=\u001b[0m \u001b[0mw\u001b[0m\u001b[0;34m[\u001b[0m\u001b[0mm\u001b[0m\u001b[0;34m]\u001b[0m \u001b[0;34m-\u001b[0m \u001b[0;34m(\u001b[0m\u001b[0mgrad\u001b[0m\u001b[0;34m[\u001b[0m\u001b[0mm\u001b[0m\u001b[0;34m]\u001b[0m \u001b[0;34m*\u001b[0m \u001b[0mlearning_rate\u001b[0m\u001b[0;34m)\u001b[0m\u001b[0;34m\u001b[0m\u001b[0;34m\u001b[0m\u001b[0m\n\u001b[1;32m     42\u001b[0m \u001b[0;34m\u001b[0m\u001b[0m\n\u001b[0;32m---> 43\u001b[0;31m     \u001b[0my_pred\u001b[0m \u001b[0;34m=\u001b[0m \u001b[0;34m[\u001b[0m\u001b[0msigmoid\u001b[0m\u001b[0;34m(\u001b[0m\u001b[0mw\u001b[0m\u001b[0;34m*\u001b[0m\u001b[0mx\u001b[0m\u001b[0;34m)\u001b[0m \u001b[0;32mfor\u001b[0m \u001b[0mx\u001b[0m \u001b[0;32min\u001b[0m \u001b[0mX\u001b[0m\u001b[0;34m]\u001b[0m\u001b[0;34m\u001b[0m\u001b[0;34m\u001b[0m\u001b[0m\n\u001b[0m\u001b[1;32m     44\u001b[0m \u001b[0;34m\u001b[0m\u001b[0m\n\u001b[1;32m     45\u001b[0m     \u001b[0mplt\u001b[0m\u001b[0;34m.\u001b[0m\u001b[0msubplots\u001b[0m\u001b[0;34m(\u001b[0m\u001b[0;36m1\u001b[0m\u001b[0;34m,\u001b[0m\u001b[0;36m1\u001b[0m\u001b[0;34m)\u001b[0m\u001b[0;34m\u001b[0m\u001b[0;34m\u001b[0m\u001b[0m\n",
      "\u001b[0;31mTypeError\u001b[0m: can't multiply sequence by non-int of type 'list'"
     ]
    }
   ],
   "source": [
    "def calc_cost(H, Y):\n",
    "    costs = []\n",
    "    for i in range(len(Y)):\n",
    "        costs.append(-Y[i]*np.log(H[i]) - (1-Y[i])*np.log(1-H[i]))\n",
    "    return sum(costs) / len(costs)\n",
    "\n",
    "\n",
    "def train_logistic(X, y, learning_rate, MAX_ITER):\n",
    "    max_n = len(X[0])\n",
    "    max_m = len(X)\n",
    "    \n",
    "    w = [random.random() for i in range(max_m)]\n",
    "    \n",
    "    W = []\n",
    "    costs = []\n",
    "    \n",
    "    for _ in range(MAX_ITER):\n",
    "        # Hypothesis\n",
    "        H = calc_hypo(w, X)\n",
    "        \n",
    "        # Cost function\n",
    "        cost = calc_cost(H, y)\n",
    "        \n",
    "        W.append(w)\n",
    "        costs.append(cost)\n",
    "        \n",
    "        if cost < 0.00000001:\n",
    "            break\n",
    "        \n",
    "        # Gradient descent\n",
    "        d = 1e-9\n",
    "        grad = []\n",
    "        for m in range(max_m):\n",
    "            re_W = [w[i] + (d if i == m else 0) for i in range(max_m)]\n",
    "            H_p = calc_hypo(re_W, X)\n",
    "            \n",
    "            g = calc_cost(H_p, y) - cost / d\n",
    "            grad.append(g)\n",
    "        \n",
    "        for m in range(max_m):\n",
    "            w[m] = w[m] - (grad[m] * learning_rate)\n",
    "    \n",
    "    y_pred = [sigmoid(w*x) for x in X]\n",
    "    \n",
    "    plt.subplots(1,1)\n",
    "    plt.scatter(W, costs)\n",
    "    \n",
    "    plt.subplots(1,1)\n",
    "    plt.scatter(X, y)\n",
    "    plt.plot(X,y_pred)\n",
    "\n",
    "train_logistic(X, Y_corr, 0.01, 1000)"
   ]
  },
  {
   "cell_type": "code",
   "execution_count": null,
   "metadata": {},
   "outputs": [],
   "source": []
  }
 ],
 "metadata": {
  "kernelspec": {
   "display_name": "Python 3",
   "language": "python",
   "name": "python3"
  },
  "language_info": {
   "codemirror_mode": {
    "name": "ipython",
    "version": 3
   },
   "file_extension": ".py",
   "mimetype": "text/x-python",
   "name": "python",
   "nbconvert_exporter": "python",
   "pygments_lexer": "ipython3",
   "version": "3.7.1"
  }
 },
 "nbformat": 4,
 "nbformat_minor": 2
}
